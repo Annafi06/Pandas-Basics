{
  "nbformat": 4,
  "nbformat_minor": 0,
  "metadata": {
    "colab": {
      "provenance": [],
      "authorship_tag": "ABX9TyOva91rLtxOjhIxeqrb/b3i",
      "include_colab_link": true
    },
    "kernelspec": {
      "name": "python3",
      "display_name": "Python 3"
    },
    "language_info": {
      "name": "python"
    }
  },
  "cells": [
    {
      "cell_type": "markdown",
      "metadata": {
        "id": "view-in-github",
        "colab_type": "text"
      },
      "source": [
        "<a href=\"https://colab.research.google.com/github/Annafi06/Pandas-Basics/blob/main/Correlations.ipynb\" target=\"_parent\"><img src=\"https://colab.research.google.com/assets/colab-badge.svg\" alt=\"Open In Colab\"/></a>"
      ]
    },
    {
      "cell_type": "code",
      "execution_count": 2,
      "metadata": {
        "colab": {
          "base_uri": "https://localhost:8080/"
        },
        "id": "m4zoCwhGlJAR",
        "outputId": "99a0113b-7ffc-4f49-80ff-4d2233c29bc1"
      },
      "outputs": [
        {
          "output_type": "stream",
          "name": "stdout",
          "text": [
            "          Duration     Pulse  Maxpulse  Calories\n",
            "Duration  1.000000 -0.155408  0.009403  0.922717\n",
            "Pulse    -0.155408  1.000000  0.786535  0.025121\n",
            "Maxpulse  0.009403  0.786535  1.000000  0.203813\n",
            "Calories  0.922717  0.025121  0.203813  1.000000\n"
          ]
        }
      ],
      "source": [
        "import pandas as pd\n",
        "\n",
        "df = pd.read_csv('data.csv')\n",
        "\n",
        "print(df.corr())\n"
      ]
    }
  ]
}